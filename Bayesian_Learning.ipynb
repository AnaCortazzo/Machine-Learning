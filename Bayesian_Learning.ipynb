{
 "cells": [
  {
   "cell_type": "markdown",
   "metadata": {
    "id": "9-zJ0FrOXfFE"
   },
   "source": [
    "\n",
    "# Aprendizaje bayesiano\n",
    "\n",
    "     - Ana Cortazzo\n",
    "     - Pablo Schiavone \n",
    "\n"
   ]
  },
  {
   "cell_type": "markdown",
   "metadata": {
    "id": "ScLHOlEUKybu"
   },
   "source": [
    "# 1. Objetivo\n",
    "\n",
    "\n",
    "El objetivo de esta tarea es implementar una solución al problema de predicción de palabras utilizando el algoritmo Naive Bayes.\n",
    "Se asume independencia en el orden de aparición de las N últimas palabras de la frase que se viene escribiendo (N es un hiperparámetro de la implementación)."
   ]
  },
  {
   "cell_type": "markdown",
   "metadata": {
    "id": "ZvmGGl6dLBvq"
   },
   "source": [
    "# 2. Diseño"
   ]
  },
  {
   "cell_type": "markdown",
   "metadata": {
    "id": "ZmS6aNQnLFeE"
   },
   "source": [
    "## 2.1 Procesamiento de datos"
   ]
  },
  {
   "cell_type": "markdown",
   "metadata": {
    "id": "-tMghVlJRAHZ"
   },
   "source": [
    "Los datos utilizados para el entrenamiento del modelo son obtenidos de un chat de WhatsApp. Se parte del archivo `.txt` provisto por la aplicación, dónde las líneas tienen el siguiente formato estándar:\n",
    " - Android\n",
    "```\n",
    "dd/mm/aaaa, h:mm p. m. - usuario: texto\n",
    "```\n",
    "\n",
    "- iOS\n",
    "```\n",
    "[dd/mm/aa hh:mm:ss] usuario: texto\n",
    "```\n",
    "\n",
    "En cualquiera de los dos casos nos interesa solamente el texto del mensaje, así que la estrategia es eliminar todo lo que esté antes de los últimos dos puntos que aparezcan en la línea. Además se eliminan  los símbolos de puntuación, los números y se estandariza el texto a minúscula.\n",
    "\n",
    "Al descargar el chat se selecciona la opción de omitir el contenido multimedia, de esta forma en cada línea correspondiente a multimedia obtenemos el mensaje: Multimedia Omitido; se eliminan todas las líneas que contengan esta frase. También se eliminan todas las líneas que contengan `https` o `www`.\n",
    "Los mensajes de WhatsApp se caracterizan por estar cargados de símbolos no textuales (emoticones, emojis), se eliminan todos estos símbolos utilizando la librería `emoji`.\n",
    "\n",
    "Dentro del procesamiento se incluye una parte de código que cruza el corpus con un diccionario de español, y remueve aquellas palabras que no se encuentran correctas. Para esto se utilizó la librería `nltk`, mediante `nltk.corpus`, que requiere la descarga del diccionario previa. Esta sección es opcional en la etapa de procesamiento.\n",
    "\n",
    "\n",
    "La función `clean_text` recibe el archivo que se descarga de WhatsApp y realiza el preprocesamiento de los datos. Se obtiene un corpus de texto limpio y adecuado para entrenar el modelo de predicción propuesto.\n",
    "\n",
    "Se agrega la posibilidad de guardar el archivo con el corpus limpio para evitar el proceso de limpieza cada vez que se use el código, ya que puede demorar unos minutos dependiendo del tamaño del corpus, y si se usa o no el diccionario español.\n",
    "\n"
   ]
  },
  {
   "cell_type": "code",
   "execution_count": 1,
   "metadata": {
    "id": "1-Q8IdgvunQk"
   },
   "outputs": [],
   "source": [
    "#Librerías necesarias\n",
    "#!pip install emoji"
   ]
  },
  {
   "cell_type": "code",
   "execution_count": 1,
   "metadata": {
    "id": "z_7KrpiRM5Qi"
   },
   "outputs": [],
   "source": [
    "from sklearn.model_selection import train_test_split , StratifiedKFold\n",
    "#from nltk.corpus import wordnet #para cruzar con dicc español\n",
    "from collections import defaultdict\n",
    "\n",
    "import pandas as pd\n",
    "import matplotlib.pyplot as plt\n",
    "import math\n",
    "import numpy as np\n",
    "import re\n",
    "import string\n",
    "import emoji"
   ]
  },
  {
   "cell_type": "code",
   "execution_count": 2,
   "metadata": {
    "id": "R9HmfGe2uOjl"
   },
   "outputs": [],
   "source": [
    "################################################################################\n",
    "#                      Funciones de preprocesamiento                           #\n",
    "################################################################################\n",
    "\n",
    "# Función para limpiar el corpus\n",
    "def clean_text(contenido):\n",
    "    lineas = contenido.split('\\n')\n",
    "    lineas_limpias = []\n",
    "    for linea in lineas:\n",
    "        ultimo_dos_puntos = linea.rfind(':')\n",
    "        # Si se encuentra un dos puntos, eliminar todo antes de él\n",
    "        if ultimo_dos_puntos != -1:\n",
    "            linea = linea[ultimo_dos_puntos + 1:]\n",
    "        # Eliminar toda la línea que contiene un enlace\n",
    "        if re.search(r'(http\\S+|www\\.\\S+)', linea):\n",
    "            continue\n",
    "        # Eliminar números\n",
    "        linea = re.sub(r'\\d+', '', linea)\n",
    "        #emojis\n",
    "        linea = emoji.replace_emoji(linea, replace='')\n",
    "        # Eliminar signos de puntuación\n",
    "        linea = linea.translate(str.maketrans('', '', string.punctuation))\n",
    "        # Convertir el texto a minúsculas\n",
    "        linea = linea.lower()\n",
    "        # eliminar multimedia omitido o salió del grupo\"\n",
    "        if \"multimedia omitido\" in linea or \"salió del grupo\" in linea or \"archivo adjunto\" in linea:\n",
    "            continue\n",
    "\n",
    "\n",
    "        #ELIMINAR PALABRAS QUE NO SON DE ESPAÑOL\n",
    "        # Tokenizar la línea en palabras\n",
    "        #palabras = linea.split()\n",
    "        # Filtrar palabras que están en el diccionario en español de NLTK\n",
    "        #palabras_validas = [palabra for palabra in palabras if palabra in wordnet.words(lang=\"spa\")]\n",
    "        # Unir las palabras nuevamente en una línea\n",
    "        #linea = ' '.join(palabras_validas)\n",
    "\n",
    "        # Agregar a las líneas limpias\n",
    "        lineas_limpias.append(linea)\n",
    "\n",
    "    # Eliminar la primera línea\n",
    "    lineas_limpias = lineas_limpias[1:]\n",
    "    corpus_limpio = [linea for linea in lineas_limpias if linea is not None]\n",
    "\n",
    "    return corpus_limpio"
   ]
  },
  {
   "cell_type": "code",
   "execution_count": 4,
   "metadata": {
    "colab": {
     "base_uri": "https://localhost:8080/"
    },
    "executionInfo": {
     "elapsed": 34984,
     "status": "ok",
     "timestamp": 1694571092771,
     "user": {
      "displayName": "Pablo Schiavone",
      "userId": "16959135570072443383"
     },
     "user_tz": 180
    },
    "id": "cZ_xyLNtwlFC",
    "outputId": "1ba20fa4-0d10-40e1-a5cf-019fa69838de"
   },
   "outputs": [],
   "source": [
    "########################################################################\n",
    "#                   FUNCIÓN PARA CARGAR EL CHAT                        #\n",
    "########################################################################\n",
    "\n",
    "def cargar_chat():\n",
    "    # Pedir al usuario la ruta del archivo\n",
    "    ruta = input(\"Por favor, ingresa la ruta del archivo: \")\n",
    "\n",
    "    # Cargar el archivo de chat\n",
    "    with open(ruta, 'r', encoding='utf-8') as archivo:\n",
    "        contenido = archivo.read()\n",
    "\n",
    "    return contenido\n",
    "\n",
    "contenido = cargar_chat()\n",
    "corpus_limpio = clean_text(contenido)\n",
    "corpus=corpus_limpio\n",
    "\n",
    "# Guardar el corpus limpio en un archivo de texto\n",
    "with open('corpus_limpo.txt', 'w', encoding='utf-8') as archivo:\n",
    "    archivo.write('\\n'.join(corpus_limpio))"
   ]
  },
  {
   "cell_type": "markdown",
   "metadata": {
    "id": "GJrQYUbjLPMT"
   },
   "source": [
    "## 2.2 Algoritmo"
   ]
  },
  {
   "cell_type": "markdown",
   "metadata": {
    "id": "c8Fbwp8EnENU"
   },
   "source": [
    "Dado el problema de predicción de la próxima palabra considerando el contexto de la misma, se implementó una solución del mismo usando el algoritmo de aprendizaje Naive Bayes, con algunas modificaciones. Se plantea el problema como una tarea de clasificación, dónde cada palabra puede considerarse como una clase, y predecir la palabra siguiente es clasificar el contexto en una clase.\n",
    "\n",
    "\n",
    "Se considera el contexto de la palabra a predecir, es decir, las N últimas palabras que se están escribiendo; este N se establece como un hiperparámetro, pudiendo tomar valores N=1, 2, 3, 4.  \n",
    "\n",
    "Sea $d$ el contexto, $d=a_1,.., a_N$ dónde $a_i$ puede ser cualquier palabra del corpus. En nuestro problema de predicción, el espacio de hipótesis, las palabras a predecir, son todas las palabras del vocabulario.\n",
    "\n",
    "Para el cálculo de la probabilidad a priori de una hipótesis $h$ se consideraron dos caso:\n",
    "\n",
    "- Usando la frecuencia: $$P(h) = \\frac{cant. apariciones\\, h \\,en\\, el\\, corpus}{tamaño\\, del\\, corpus}$$\n",
    "\n",
    "- Usando **tf-idf**:\n",
    "\n",
    "  $$tf=\\frac{count}{total}$$\n",
    "\n",
    "  siendo $count$ el número de ocurrencias de la palabra en el texto, y $total$ el número total de palabras en el texto\n",
    "\n",
    "  $$idf=\\log \\frac{D}{n}$$\n",
    "\n",
    "  siendo $D$ el número de instancias del conjunto (docuementos), y $n$ el número de instancias donde la palabra aparece en el texto.\n",
    "\n",
    "  $$tf.idf=td×idf$$"
   ]
  },
  {
   "cell_type": "markdown",
   "metadata": {
    "id": "rSOf_xjr1kiT"
   },
   "source": [
    "Para el cálculo de la probabilidad condicional de un contexto $d$ dada una hipótesis $h$ tenemos $P(d|h)=P(a_1,..., a_N|h)=P(a_1|h)...P(a_N|h)$ dónde se asume independencia en el orden de aparición de las palabras del contexto. Para el cálculo de las probabilidades $P(a_i|h)$ se utilizó una adaptación de la estimación-m presentada en Mitchell (1997) para la clasificación de textos:\n",
    "\n",
    "$$ P(a_i|h) = \\frac{n_k +1}{n+|vocabulario|}$$\n",
    "\n",
    "dónde $|vocabulario|$ es la cantidad de palabras distintas presentes en el corpus, $n_k$ cuenta las veces que la palabra $a_i$ aparece en el contexto de $h$ y $n$ es la cantidad total de palabras que aparecen en el contexto de $h$ en todo el corpus.\n",
    "\n",
    "Luego de definidas las probabilidades, el algoritmo Naive Bayes busca la hipótesis $h$ que maximiza la probabilidad $P(h|d)$, que con la asunción de independencia y aplicando el Teorema de Bayes se reduce a\n",
    "\n",
    "$$h_{NB} = \\arg \\max_{h_i} P(h_i) \\prod_{j=1}^{N} P(a_j|h_i) $$ \n",
    "\n",
    "o aplicando logaritmo se obtiene:\n",
    "\n",
    "$$h_{NB} = \\arg \\max_{h_i} \\log_2 P(h_i) +  \\sum_{j=1}^{N} \\log_2 P(a_j|h_i) $$\n"
   ]
  },
  {
   "cell_type": "markdown",
   "metadata": {
    "id": "wKoyDN-MinKt"
   },
   "source": [
    "Con estas definiciones necesarias, el algoritmo propuesto funciona de la siguiente manera:\n",
    "\n",
    "- Se inicializa el modelo\n",
    "\n",
    "  ```python\n",
    "  modelo = Predictor_Naive_Bayes()\n",
    "  ```\n",
    "\n",
    "- **Entrenamiento**: en esta etapa recibe el corpus limpio previamente procesado, un valor para el hiperparámetro N y la forma de determinar las probabilidades a priori mediante el parámetro `tf_idf` que puede tomar los valores `True` o `False`. En esta etapa se determinan las probabilidades necesarias y se guardan en diccionarios.\n",
    "\n",
    "  ```python\n",
    "  modelo.entrenar_naive_bayes(corpus, n , tf_idf)\n",
    "  ```\n",
    "\n",
    "- **Predicción**: el algoritmo recibe un contexto (una secuencia de palabras) y realiza una predicción utilizando el valor de N definido en el entrenamiento. En esta etapa, el algoritmo retorna el valor de $h_{NB}$ (o $h_{MAP}$) y el valor de $p_{MAP}$, es decir, la hipótesis que maximiza la condición definida anteriormente.\n",
    "\n",
    "  ```python\n",
    "  modelo.predecir(\"frase a predecir\")\n",
    "  ```\n",
    "\n",
    "- **Re-entrenamiento**: cada vez que se ingresa un punto en la interfaz cliente, el algoritmo agrega la frase al corpus y se re-entrena.\n",
    "\n",
    "\n",
    "Hay otras funciones auxiliares que sirven para el correcto funcionamiento del algoritmo y la integración con el cliente propuesto. A continuación se presenta el algoritmo propuesto:\n",
    "\n"
   ]
  },
  {
   "cell_type": "code",
   "execution_count": 5,
   "metadata": {
    "id": "wyncslwW_Iy9"
   },
   "outputs": [],
   "source": [
    "#Predictor Naive Bayes\n",
    "class Predictor_Naive_Bayes:\n",
    "  def __init__(self):\n",
    "    self.corpus=[]\n",
    "    self.probabilidad_priori = {}\n",
    "    self.probabilidad_condicional = defaultdict(lambda: defaultdict(float))\n",
    "    self.total_palabras   = 0\n",
    "    self.frecuencia_palabras  = {}\n",
    "    self.clases= set()\n",
    "    self.N = None\n",
    "    self.total_docs = 0\n",
    "\n",
    "# Función para contar la frecuencia de palabras en un corpus, total palabras y total docs\n",
    "  def contar_palabras(self, corpus):\n",
    "    conteo_palabras = {}\n",
    "    total_palabras   = 0\n",
    "    total_docs = len(corpus)\n",
    "    for documento in corpus:\n",
    "        palabras = documento.split()\n",
    "        for palabra in palabras:\n",
    "          conteo_palabras[palabra] =conteo_palabras.get(palabra, 0) + 1\n",
    "          total_palabras += 1\n",
    "    self.frecuencia_palabras = conteo_palabras\n",
    "    self.total_palabras  = total_palabras\n",
    "    self.total_docs = total_docs\n",
    "\n",
    "#obtener clases (vocabulario, todas las palabras diferentes del corpus)\n",
    "  def set_clases (self, corpus):\n",
    "    clases = set()\n",
    "    for documento in corpus:\n",
    "      palabras = documento.split()\n",
    "      clases.update(palabras)\n",
    "    self.clases=clases\n",
    "\n",
    "  #prob a priori - frecuencia\n",
    "  def calc_prob_priori (self, corpus):\n",
    "    self.set_clases(corpus)\n",
    "    P = {}\n",
    "    self.contar_palabras(corpus)\n",
    "    total_palabras = self.total_palabras\n",
    "    for h in self.clases:\n",
    "      prob_priori = self.frecuencia_palabras.get(h, 0)/total_palabras\n",
    "      P[h] = prob_priori\n",
    "    self.probabilidad_priori = P\n",
    "\n",
    "  #prob a priori - tf-idf\n",
    "  def calc_prob_priori_tfidf(self, corpus):\n",
    "    self.set_clases(corpus)\n",
    "    epsilon = self.m_estimador()\n",
    "    tfidf = defaultdict(float)\n",
    "    tot_docs_con_h = defaultdict(int)\n",
    "    self.contar_palabras(corpus)\n",
    "    total_palabras = self.total_palabras\n",
    "    total_documentos = len(corpus)  # Número total de instancias\n",
    "    P = {}\n",
    "    for documento in corpus:\n",
    "        for h in self.clases:\n",
    "            if h in documento:\n",
    "                tot_docs_con_h[h] += 1\n",
    "\n",
    "    for h in self.clases:\n",
    "        count_h = tot_docs_con_h.get(h, epsilon)  # Número de instancias donde la palabra aparece en el texto\n",
    "        tf = self.frecuencia_palabras.get(h, epsilon)/total_palabras  # Frecuencia de la palabra en el texto\n",
    "        idf = math.log2(total_documentos / (count_h + 1))  # Inversa de la frecuencia de documento (el 1 es para evitar división entre 0)\n",
    "        tfidf[h] = tf * idf\n",
    "        P[h] = tfidf[h]\n",
    "    self.probabilidad_priori = P\n",
    "\n",
    "\n",
    "# probabilidades condicionales con respecto a las clases\n",
    "  def calc_prob_condicional(self, corpus, N):\n",
    "    P_cond = self.probabilidad_condicional\n",
    "\n",
    "    #cuento cantidad de total de palabras que parecen en contexto con h\n",
    "    for h in self.clases:\n",
    "      palabras_en_contexto = 0\n",
    "      for documento in corpus:\n",
    "        vocabulario = documento.split()\n",
    "        if h in vocabulario:\n",
    "        # Encontrar el índice de h en el documento\n",
    "          index_h = vocabulario.index(h)\n",
    "          # Incrementar la cantidad de palabras en el contexto de h\n",
    "          palabras_en_contexto += min(N, index_h)\n",
    "\n",
    "          #recorro el contexto de h\n",
    "          for i in range(max(0, index_h - N), index_h):\n",
    "            palabra = vocabulario[i]\n",
    "            if palabra != h:\n",
    "              if h not in P_cond:\n",
    "                P_cond[h] = {}  # Inicializar el diccionario de probabilidades si es necesario\n",
    "              if palabra not in P_cond[h]:\n",
    "                P_cond[h][palabra] = 0  # Inicializar la nueva palabra con una frecuencia de 0\n",
    "\n",
    "              P_cond[h][palabra] = P_cond[h].get(palabra, 0) + 1 #cuenta las ocuerrencias de palbra en el contexto de h\n",
    "\n",
    "      total_palbaras_en_clase=len(self.clases)\n",
    "      for palabra in P_cond[h]:\n",
    "            P_cond[h][palabra] = (P_cond[h][palabra] + 1) / (palabras_en_contexto + total_palbaras_en_clase)\n",
    "\n",
    "  def m_estimador(self):\n",
    "    total_palabras_en_clase=len(self.clases)\n",
    "    e=0 #se agrega simplemente para seguir el formato de la función vista en clase\n",
    "    p=1/total_palabras_en_clase\n",
    "    m=2 #se le da el valor 2 pero puede ser cualquiera\n",
    "    n=self.total_palabras\n",
    "    return ((e+(m*p))/(n+m))\n",
    "\n",
    "  #función para integrar con el cliente propuesto\n",
    "  def obtener_palabra(self, frase):\n",
    "    palabra, prob = self.predecir(frase)\n",
    "    return palabra\n",
    "\n",
    "  # función para predecir la siguiente palabra\n",
    "  def predecir(self, contexto):\n",
    "        sum_prob = {}\n",
    "        contexto = contexto.split()\n",
    "\n",
    "        if len(contexto)>self.N:\n",
    "          palabras_contexto=contexto[-self.N:]\n",
    "        else:\n",
    "          palabras_contexto=contexto\n",
    "\n",
    "        for h in self.clases:\n",
    "            sum_prob[h] = math.log2(self.probabilidad_priori[h])\n",
    "\n",
    "        m_estimad=self.m_estimador()\n",
    "\n",
    "        for palabra in palabras_contexto:\n",
    "            if palabra in self.clases:\n",
    "                for h in self.clases:\n",
    "                    prob = self.probabilidad_condicional[h].get(palabra,m_estimad)\n",
    "                    sum_prob[h] += math.log2(prob)\n",
    "\n",
    "        h_MAP = max(sum_prob, key=sum_prob.get)\n",
    "        p_MAP = math.exp(sum_prob[h_MAP])\n",
    "        return h_MAP, p_MAP\n",
    "\n",
    "# Función para entrenar el modelo\n",
    "  def entrenar_naive_bayes(self, corpus, N, tf_idf=False):\n",
    "    self.N = N\n",
    "    self.corpus = corpus\n",
    "    self.set_clases(corpus)\n",
    "\n",
    "    if tf_idf == False:\n",
    "      self.calc_prob_priori(corpus)\n",
    "    else:\n",
    "       self.calc_prob_priori_tfidf(corpus)\n",
    "\n",
    "    self.calc_prob_condicional(corpus, N)\n",
    "\n",
    "  # función para re-entrnar el modelo luego de una frase\n",
    "  def reentrenar(self, frase, tf_idf=True ):\n",
    "    self.corpus.append(frase)\n",
    "    self.entrenar_naive_bayes(self.corpus, self.N, tf_idf )"
   ]
  },
  {
   "cell_type": "markdown",
   "metadata": {
    "id": "L7WweFrGLUOI"
   },
   "source": [
    "## 2.3 Evaluación"
   ]
  },
  {
   "cell_type": "markdown",
   "metadata": {
    "id": "DGZaImj_tIYb"
   },
   "source": [
    "Debido a que en esta oportunidad no tenemos definidos los resultados esperados, se decidió trabajar con el conjunto de entrenamiento para realizar pruebas. Dividimos el corpus del chat en un conjunto de entrenamiento y otro de validación con una proporción de 80% y 20%, respectivamente.\n",
    "\n",
    "Para entrenar el modelo, utilizamos el conjunto de datos de entrenamiento, y para la validación, aplicamos la función `creacion_de_conjunto_de_test` al conjunto de validación. Esta función recorre el conjunto de validación, generando un corpus con documentos de tamaño N (`X_val`), siendo N valor del hiperparámetro a evaluar, y otro conjunto con los resultados esperados (`y_val`). A modo de ejemplo, dada la frase “mi hijo se olvidó de la mochila en la escuela” y un valor de N=2, los conjuntos de validación quedan de la siguiente forma:\n",
    "\n",
    "```\n",
    "X_val = [‘mi hijo’, ‘hijo se’, ‘se olvidó’, ‘olvidó de’, ‘de la’, ‘la mochila’, ‘mochila en’, ‘en la’, ‘la escuela’]\n",
    "y_val= [ ‘se’, ‘olvidó’, ‘de’, ‘la’, ‘mochila’, ‘en’, ‘la’, ‘escuela’]\n",
    "```\n",
    "\n",
    "Para garantizar que la longitud de `y_val` coincida con `y_pred` se agrega la palabra más frecuente en el corpus en los lugares vacíos. Se predice sobre `X_val` y se obtiene `y_pred`. Se determina el accuracy del modelo mediante:\n",
    "\n",
    "- **Accuracy** (acierto): Es la proporción de instancias clasificadas correctamente sobre el total de instancias. Sea $V_p$ y $V_n$ los verdaderos positivos y negativos y $F_p$ y $F_n$ los falsos positivos y negativos respectivamente, se puede calcular el accuracy como:\n",
    "  $$ acc = \\frac{V_p + V_n}{V_p + V_n + F_p + F_n}$$\n",
    "\n",
    "Una vez obtenidos los valores de entrada y los esperados, se mide el rendimiento del modelo utilizando la función `get_accuracy`. Esta función calcula el promedio de los aciertos comparando los resultados devueltos por el modelo (`y_pred`) contra los esperados (`y_val`).\n",
    "\n",
    "Es importante destacar que esta estrategia NO constituye una validación cruzada, ya que su objetivo principal es medir el rendimiento del modelo con frases que ya han sido ingresadas previamente sin necesidad de probarlo nosotros manualmente.\n"
   ]
  },
  {
   "cell_type": "code",
   "execution_count": 6,
   "metadata": {
    "id": "SmJ1ECK6KeZo"
   },
   "outputs": [],
   "source": [
    "# Funciones auxiliares\n",
    "def creacion_de_conjunto_de_test(corpus, n=1):\n",
    "    X=[]\n",
    "    Y=[]\n",
    "    for documento in corpus:\n",
    "        palabras = documento.split()\n",
    "        num_palabras = len(palabras)\n",
    "        for i in range(len(palabras) - (n-1)):\n",
    "            if len(palabras) >= n:\n",
    "                conjunto = \" \".join(palabras[i:i + n])\n",
    "                X.append(conjunto)\n",
    "                if i + n < num_palabras:\n",
    "                    Y.append([palabras[i + n]])  # Cada palabra es ahora una lista\n",
    "                else:\n",
    "                    # Agregar la palabra por defecto\n",
    "                    Y.append([\"de\"])  # o Y.append([palabra_mas_frecuente])\n",
    "    return X, Y\n",
    "\n",
    "def get_accuracy(y_true, y_pred):\n",
    "    total=len(y_true)\n",
    "    cantidad_ok=0\n",
    "    for i in range(len(y_true)):\n",
    "      if y_true[i]==y_pred[i]:\n",
    "        cantidad_ok +=1\n",
    "    return (cantidad_ok / total)"
   ]
  },
  {
   "cell_type": "markdown",
   "metadata": {
    "id": "2w7UVZglLYWE"
   },
   "source": [
    "# 3. Experimentación"
   ]
  },
  {
   "cell_type": "markdown",
   "metadata": {
    "id": "V_SIzu1d45lm"
   },
   "source": [
    "La experimentación que se presenta a continuación se realizó con un chat de WhatsApp específico, no se varió el corpus durante los experimentos. Si se evalúa con otro corpus, los resultados pueden ser diferentes."
   ]
  },
  {
   "cell_type": "markdown",
   "metadata": {
    "id": "aQGJ2oV0Lkbj"
   },
   "source": [
    "## 3.1 Entrenamiento y test"
   ]
  },
  {
   "cell_type": "markdown",
   "metadata": {
    "id": "2gIuHYCY3FMa"
   },
   "source": [
    "### 3.1.1 Pruebas con *tf_idf* y diccionario español"
   ]
  },
  {
   "cell_type": "markdown",
   "metadata": {
    "id": "RhPecSNSE38K"
   },
   "source": [
    "Con el algoritmo propuesto se realizaron varias pruebas para determinar cuál es el mejor escenario para la predicción de la siguiente palabra. La evaluación de esas pruebas se realizó como explicado anteriormente, utilizando `y_val` y `y_pred` para determinar el accuracy.\n",
    "\n",
    "1. Cruzar el corpus con un diccionario de español para retirar las palabras que no están bien escritas. Para aplicar esta opción hay que eliminar los comentarios correspondientes en la función `clean_text` (esta operación requiere la instalación de la biblioteca `NLTK` de Python y la descarga previa de `wordnet`):\n",
    "\n",
    "  ```python\n",
    "    #ELIMINAR PALABRAS QUE NO SON DE ESPAÑOL\n",
    "    # Tokenizar la línea en palabras\n",
    "    palabras = linea.split()\n",
    "    # Filtrar palabras que están en el diccionario en español de NLTK\n",
    "    palabras_validas = [palabra for palabra in palabras if palabra in wordnet.words(lang=\"spa\")]\n",
    "    # Unir las palabras nuevamente en una línea\n",
    "    linea = ' '.join(palabras_validas)\n",
    "    # Agregar a las líneas limpias\n",
    "    lineas_limpias.append(linea)\n",
    "  ```\n",
    "\n",
    "  Aplicando este procesamiento, se determinó el accuracy para diferentes valores del hiperparámero N, variando la opción de `tf_idf` de `True` a `False`. También se realizaron pruebas de predicción en estas configuraciones, para evaluar de forma cualitativa la predicción de la siguiente palabra.\n",
    "2. Sin retirar las palabras mal escritas, se determinó el accuracy para diferentes valores del hiperparámero N, variando la opción de `tf_idf` de `True` a `False`. También se realizaron pruebas de predicción en estas configuraciones, para evaluar de forma cualitativa la predicción de la siguiente palabra.\n"
   ]
  },
  {
   "cell_type": "markdown",
   "metadata": {
    "id": "NsvnXlYQGwsS"
   },
   "source": [
    "La Tabla 1 sistematiza algunos resultados obtenidos en la predicción de frases, considerando un contexto N=2 en las diferentes pruebas realizadas. No se incluye el valor de $p_{MAP}$ ya que no es un parámetro comparable porque cuando variamos el método de cálculo de las probabilidades a priori, el valor de $p_{MAP}$ cambia.\n",
    "\n",
    "En la Gráfica 1 se presenta una comparación de los valores de accuracy en función del hiperparámetro N obtenido para cada una de estas configuraciones. Se puede observar que los mejores resultados en la predicción, tanto cualitativa como cuantitativamente, se obtienen cuando no se cruza el corpus con un diccionario de español, es decir, cuando se consideran todas las palabras del corpus."
   ]
  },
  {
   "cell_type": "markdown",
   "metadata": {
    "id": "pRuohX3e3OdT"
   },
   "source": [
    "**Tabla 1**: Predicción de la palabra siguiente con las diferentes configuraciones consideradas\n",
    "\n",
    "\n",
    "|             | Sin dicc. ES - tf_idf = TRUE | Sin dicc. ES - tf_idf = FLASE | Con dicc. ES - tf_idf = TRUE | Con dicc. ES - tf_idf = FLASE |\n",
    "|-------------|---------------------------|----------------------------|---------------------------|----------------------------|\n",
    "| Frase (N=2) | h_MAP                     | h_MAP                      | h_MAP                     | h_MAP                      |\n",
    "| hola        | amoras                    | amoras                     | la                        | la                         |\n",
    "| hola prima  | como                      | como                       | la                        | la                         |\n",
    "| mañana vamos| a                         | a                          | la                        | la                         |\n",
    "| nosotras estamos| en                   | en                         | la                        | la                         |\n",
    "\n",
    "\n",
    "**Gráfica 1**: Accuracy en función de N para las diferentes configuraciones consideradas\n",
    "\n",
    "![Dibujo sin título(1).jpg](data:image/jpeg;base64,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)\n"
   ]
  },
  {
   "cell_type": "markdown",
   "metadata": {
    "id": "zfW4Gr8NMt-L"
   },
   "source": [
    "### 3.1.2 Selección del hiperparámetro N"
   ]
  },
  {
   "cell_type": "markdown",
   "metadata": {
    "id": "kox1WtjPv12i"
   },
   "source": [
    "Entendemos que el lenguaje en el grupo de amigos no es el mismo que se utiliza en un grupo laboral. Por tal motivo, se decidió dividir el corpus en un conjunto de entrenamiento y un conjunto de validación, con un porcentaje de 80/20, respectivamente. De esta forma, nos aseguramos de que tanto en nuestro conjunto de entrenamiento como en el de validación utilice el mismo lenguaje. Debido a que en este caso no podemos utilizar el corpus de validación directamente, se le aplica la función `creacion_de_conjunto_de_test` para obtener los conjuntos `X_val` e `y_val`, de la misma manera en que se hizo para las pruebas de tf-idf.\n",
    "Una vez que se obtuvo un conjunto de datos utlizables para validar, se aplica el siguinete código.\n",
    "\n",
    "```python\n",
    "viol = []\n",
    "n_values = [1, 2, 3, 4]\n",
    "\n",
    "for i in n_values:\n",
    "    n = i\n",
    "    modelo = Predictor_Naive_Bayes()\n",
    "    modelo.entrenar_naive_bayes(corpus_entrenamiento, n, tf_idf=True)\n",
    "    X_val, y_val = creacion_de_conjunto_de_test(corpus_validacion, n)\n",
    "    y_pred_val = []\n",
    "    for j in range(len(X_val)):\n",
    "        h_MAP, p_MAP = modelo.predecir(X_val[j])\n",
    "        y_pred_val.append([h_MAP])\n",
    "    acc = get_accuracy(y_val, y_pred_val)\n",
    "    viol.append(acc)\n",
    "    print(\"acc:\", acc, \"hiperparámetro n=\", n)\n",
    "```\n",
    "Este código entrena y evalua el clasificador con diferentes valores de 'n' en un conjunto de datos de entrenamiento y validación, y registra los accuracy en la lista 'viol' para su posterior análisis.\"\n",
    "\n",
    "Para el análisis, se realizó la Gráfica 2: Accuracy en función de N - tf_idf=True - Sin diccionario Español. En ella se observa que el mejor rendimiento del modelo se alcanza cuando se le asigna un valor de N = 2, y luego comienza a degradarse a medida que el valor de N aumenta.\n",
    "\n"
   ]
  },
  {
   "cell_type": "code",
   "execution_count": 7,
   "metadata": {
    "id": "7NgzPRMLJ_KJ"
   },
   "outputs": [],
   "source": [
    "#Divide el corpus en corpus_entrenamiento, corpus_validacion\n",
    "corpus_entrenamiento, corpus_validacion = train_test_split(corpus,   test_size=0.2, shuffle=True, random_state=42)\n",
    "modelo = Predictor_Naive_Bayes()"
   ]
  },
  {
   "cell_type": "code",
   "execution_count": 8,
   "metadata": {
    "colab": {
     "base_uri": "https://localhost:8080/"
    },
    "executionInfo": {
     "elapsed": 1368793,
     "status": "ok",
     "timestamp": 1694574046736,
     "user": {
      "displayName": "Pablo Schiavone",
      "userId": "16959135570072443383"
     },
     "user_tz": 180
    },
    "id": "Eoq1iDXtcLDc",
    "outputId": "9c2518c3-fb5b-4532-c227-11183d5aa2f1"
   },
   "outputs": [
    {
     "name": "stdout",
     "output_type": "stream",
     "text": [
      "acc: 0.09673202614379085 hiperparámetro n= 1\n",
      "acc: 0.10128617363344052 hiperparámetro n= 2\n",
      "acc: 0.08372404554588078 hiperparámetro n= 3\n",
      "acc: 0.07795473595976529 hiperparámetro n= 4\n",
      "acc: 0.07596253902185224 hiperparámetro n= 5\n",
      "acc: 0.06306306306306306 hiperparámetro n= 6\n"
     ]
    }
   ],
   "source": [
    "#Prueba el rendimiento según el valor del hiperparámtro N\n",
    "viol = []\n",
    "n_values = [1, 2, 3, 4, 5, 6]\n",
    "\n",
    "for i in n_values:\n",
    "    n = i\n",
    "    modelo = Predictor_Naive_Bayes()\n",
    "    modelo.entrenar_naive_bayes(corpus_entrenamiento, n, tf_idf=True)\n",
    "    X_val, y_val = creacion_de_conjunto_de_test(corpus_validacion, n)\n",
    "    y_pred_val = []\n",
    "    for j in range(len(X_val)):\n",
    "        h_MAP, p_MAP = modelo.predecir(X_val[j])\n",
    "        y_pred_val.append([h_MAP])\n",
    "    acc = get_accuracy(y_val, y_pred_val)\n",
    "    viol.append(acc)\n",
    "    print(\"acc:\", acc, \"hiperparámetro n=\", n)\n"
   ]
  },
  {
   "cell_type": "code",
   "execution_count": 9,
   "metadata": {
    "colab": {
     "base_uri": "https://localhost:8080/",
     "height": 472
    },
    "executionInfo": {
     "elapsed": 461,
     "status": "ok",
     "timestamp": 1694574050829,
     "user": {
      "displayName": "Pablo Schiavone",
      "userId": "16959135570072443383"
     },
     "user_tz": 180
    },
    "id": "YAP_fetOMtKT",
    "outputId": "3a92dbf2-6de7-469b-b82d-2c124354ed1a"
   },
   "outputs": [
    {
     "data": {
      "image/png": "[encoded data removed]",
      "text/plain": [
       "<Figure size 640x480 with 1 Axes>"
      ]
     },
     "metadata": {},
     "output_type": "display_data"
    }
   ],
   "source": [
    "\n",
    "colors = ['b', 'g', 'r', 'c', 'm', 'y']\n",
    "plt.bar(n_values, viol, align='center', alpha=0.5 , color=colors)\n",
    "plt.xlabel('Valor de N')\n",
    "plt.ylabel('Accuracy')\n",
    "plt.title('Gráfica 2: Accuracy en función de N - tf_idf=True - Sin diccionario Español')\n",
    "plt.xticks(n_values)\n",
    "plt.grid(axis='y', linestyle='--', alpha=0.7)\n",
    "plt.show()"
   ]
  },
  {
   "cell_type": "markdown",
   "metadata": {
    "id": "4cY9BrtgLn9v"
   },
   "source": [
    "## 3.2 Pruebas con simulador de cliente"
   ]
  },
  {
   "cell_type": "markdown",
   "metadata": {
    "id": "fMwygx3fERTh"
   },
   "source": [
    "Hasta este punto, nuestras pruebas se han enfocado principalmente en medir el rendimiento del modelo, sin dar prioridad a la experiencia de usuario. Con el objetivo de evaluar la experiencia de usuario, empleamos el código proporcionado por el profesor y lo adaptamos para implementar nuestro modelo de predicción.\n",
    "Durante el proceso de pruebas, ingresamos frases que pertenecían originalmente al conjunto de entrenamiento del modelo, así como frases que no habían sido utilizadas en el entrenamiento. Esto nos permitió confirmar que el modelo tiene una mejor capacidad predictiva cuando se enfrenta a frases que habían sido parte del entrenamiento.\n",
    "\n",
    "Otro aspecto que debíamos analizar en esta etapa es el tiempo requerido para predecir una palabra y el tiempo necesario para volver a entrenar el modelo cuando se introduce una frase nueva en una interfaz interactiva. Con el corpus utilizado, los tiempos obtenidos para la predicción son casi imperceptibles, pero el tiempo requerido para el reentrenamiento es demasiado elevado para ser realizado de manera interactiva."
   ]
  },
  {
   "cell_type": "code",
   "execution_count": 10,
   "metadata": {
    "id": "GaRic4GbMFqV"
   },
   "outputs": [],
   "source": [
    "#Entrenamiento de modelo\n",
    "n=2\n",
    "modelo = Predictor_Naive_Bayes()\n",
    "modelo.entrenar_naive_bayes(corpus, n , tf_idf=True)\n"
   ]
  },
  {
   "cell_type": "code",
   "execution_count": 12,
   "metadata": {
    "colab": {
     "base_uri": "https://localhost:8080/"
    },
    "executionInfo": {
     "elapsed": 791998,
     "status": "ok",
     "timestamp": 1694575366631,
     "user": {
      "displayName": "Pablo Schiavone",
      "userId": "16959135570072443383"
     },
     "user_tz": 180
    },
    "id": "fYY9f3ZQI50G",
    "outputId": "982478a0-8fcc-4fed-caf7-e4be1bf1223a"
   },
   "outputs": [
    {
     "name": "stdout",
     "output_type": "stream",
     "text": [
      "Ingrese la frase dando ENTER luego de \u001b[3mcada palabra\u001b[0m.\n",
      "Ingrese sólo ENTER para aceptar la recomendación sugerida, o escriba la siguiente palabra y de ENTER\n",
      "Ingrese '.' para comenzar con una frase nueva.\n",
      "Ingrese '..' para terminar el proceso.\n",
      ">> hola\n",
      "palabra_sugerida amoras\n",
      "hola \u001b[3mamoras\u001b[0m\n",
      ">> \n",
      "palabra_sugerida como\n",
      "hola amoras \u001b[3mcomo\u001b[0m\n",
      ">> \n",
      "palabra_sugerida están\n",
      "hola amoras como \u001b[3mestán\u001b[0m\n",
      ">> \n",
      "palabra_sugerida las\n",
      "hola amoras como están \u001b[3mlas\u001b[0m\n",
      ">> .\n",
      "----- Comenzando frase nueva -----\n",
      ">> hola prima\n",
      "palabra_sugerida como\n",
      "hola prima \u001b[3mcomo\u001b[0m\n",
      ">> \n",
      "palabra_sugerida que\n",
      "hola prima como \u001b[3mque\u001b[0m\n",
      ">> estás\n",
      "palabra_sugerida con\n",
      "hola prima como estás \u001b[3mcon\u001b[0m\n",
      ">> .\n",
      "----- Comenzando frase nueva -----\n",
      ">> mañana vamos\n",
      "palabra_sugerida a\n",
      "mañana vamos \u001b[3ma\u001b[0m\n",
      ">> \n",
      "palabra_sugerida las\n",
      "mañana vamos a \u001b[3mlas\u001b[0m\n",
      ">> la\n",
      "palabra_sugerida de\n",
      "mañana vamos a la \u001b[3mde\u001b[0m\n",
      ">> plaza\n",
      "palabra_sugerida de\n",
      "mañana vamos a la plaza \u001b[3mde\u001b[0m\n",
      ">> .\n",
      "----- Comenzando frase nueva -----\n",
      ">> nosotras estamos\n",
      "palabra_sugerida en\n",
      "nosotras estamos \u001b[3men\u001b[0m\n",
      ">> \n",
      "palabra_sugerida el\n",
      "nosotras estamos en \u001b[3mel\u001b[0m\n",
      ">> casa\n",
      "palabra_sugerida el\n",
      "nosotras estamos en casa \u001b[3mel\u001b[0m\n",
      ">> .\n",
      "----- Comenzando frase nueva -----\n",
      ">> ..\n"
     ]
    }
   ],
   "source": [
    "def recomendacion_bayesiana(frase):\n",
    "  frase_completa = ' '.join(frase)\n",
    "  return(modelo.obtener_palabra(frase_completa))\n",
    "\n",
    "\n",
    "##### LOOP PRINCIPAL #####\n",
    "\n",
    "print(\"Ingrese la frase dando ENTER luego de \\x1b[3mcada palabra\\x1b[0m.\")\n",
    "print(\"Ingrese sólo ENTER para aceptar la recomendación sugerida, o escriba la siguiente palabra y de ENTER\")\n",
    "print(\"Ingrese '.' para comenzar con una frase nueva.\")\n",
    "print(\"Ingrese '..' para terminar el proceso.\")\n",
    "\n",
    "frase = []\n",
    "palabra_sugerida = \"\"\n",
    "while 1:\n",
    "    palabra = input(\">> \")\n",
    "\n",
    "    if palabra == \"..\":\n",
    "      break\n",
    "\n",
    "    elif palabra == \".\":\n",
    "      print(\"----- Comenzando frase nueva -----\")\n",
    "      frase_completa = ' '.join(frase)\n",
    "      modelo.reentrenar(frase_completa, True ) #Reentrena con frase ingresada\n",
    "      frase = []\n",
    "\n",
    "    elif palabra == \"\": # acepta última palabra sugerida\n",
    "      frase.append(palabra_sugerida)\n",
    "\n",
    "    else: # escribió una palabra\n",
    "      frase.append(palabra)\n",
    "\n",
    "    if frase:\n",
    "      palabra_sugerida = recomendacion_bayesiana(frase)\n",
    "      print(\"palabra_sugerida\" ,  palabra_sugerida)\n",
    "      frase_propuesta = frase.copy()\n",
    "      frase_propuesta.append(\"\\x1b[3m\"+ palabra_sugerida +\"\\x1b[0m\")\n",
    "\n",
    "      print(\" \".join(frase_propuesta))"
   ]
  },
  {
   "cell_type": "markdown",
   "metadata": {
    "id": "hXkep9eXL28m"
   },
   "source": [
    "# 4. Conclusión"
   ]
  },
  {
   "cell_type": "markdown",
   "metadata": {
    "id": "f45gcRcfyMdp"
   },
   "source": [
    "Consideramos que la división del corpus en entrenamiento y test, junto con la definición de los conjuntos de validación (`X_val` e  `y_val`) para determinar el accuracy de nuestro modelo fue una decisión adecuada, ya que nos proporcionó una forma de comparar las diferentes pruebas realizadas, que de usar las probabilidades no sería posible la comparación directa.\n",
    "\n",
    "Fue posible observar una mejora en el accuracy del modelo cuando se utiliza `tf_idf` para las probabilidades a priori de las clases. Esto era un resultado esperado, ya que esta forma considera la importancia de las palabras en todo el corpus.\n",
    "\n",
    "El tamaño del corpus afecta directamente el tiempo de entrenamiento, y esto es una dificultad real a la hora de re-entrenar con las frases nuevas, ya que aumenta el tiempo entre las predicciones.\n",
    "\n",
    "Se pudo observar que al cruzar el corpus con el diccionario español, el algoritmo tiende a predecir palabras comunes, como conjunciones y artículos (‘la’, ‘de’, etc.). Para algunos usuarios puede ser deseable que el algoritmo prediga palabras que no necesariamente están correctas en español, ya que el uso de modismos es común en los chat de redes sociales.\n",
    "\n",
    "Algunas mejoras a futuro a implementar en el algoritmo pueden ser: probar con otro diccionario que sea específico de español, ya que el `nltk` está optimizado para inglés; estudiar formas de mejorar los tiempos de re-entrenamiento del algoritmo.\n",
    "\n",
    "\n",
    "\n"
   ]
  },
  {
   "cell_type": "markdown",
   "metadata": {
    "id": "TRTsLGyy3xFx"
   },
   "source": [
    "# Bibliografía\n",
    "\n",
    "Mitchell, T.(1997). Machine Learning. Publisher: McGraw Hill.\n"
   ]
  }
 ],
 "metadata": {
  "colab": {
   "provenance": [],
   "toc_visible": true
  },
  "kernelspec": {
   "display_name": "Python 3 (ipykernel)",
   "language": "python",
   "name": "python3"
  },
  "language_info": {
   "codemirror_mode": {
    "name": "ipython",
    "version": 3
   },
   "file_extension": ".py",
   "mimetype": "text/x-python",
   "name": "python",
   "nbconvert_exporter": "python",
   "pygments_lexer": "ipython3",
   "version": "3.9.16"
  }
 },
 "nbformat": 4,
 "nbformat_minor": 1
}
